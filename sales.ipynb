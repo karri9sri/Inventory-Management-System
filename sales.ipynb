{
 "cells": [
  {
   "cell_type": "markdown",
   "metadata": {},
   "source": [
    "## INVENTORY MANAGEMENT SYSTEM"
   ]
  },
  {
   "cell_type": "markdown",
   "metadata": {},
   "source": [
    "# Purchasing a product"
   ]
  },
  {
   "cell_type": "code",
   "execution_count": 19,
   "metadata": {},
   "outputs": [
    {
     "name": "stdout",
     "output_type": "stream",
     "text": [
      "enter the name of the product you want to buy:moong dal\n",
      "enter the quantity you want to buy:12\n",
      "type c if you want to continue else ss\n"
     ]
    }
   ],
   "source": [
    "import json\n",
    "from datetime import datetime\n",
    "fp=open(\"records.txt\",\"r\")\n",
    "data=fp.read()\n",
    "fp.close()\n",
    "products=json.loads(data)\n",
    "x=\"c\"\n",
    "amt=0\n",
    "id=[]\n",
    "name=[]\n",
    "qu=[]\n",
    "price=[]\n",
    "typ=[]\n",
    "com=[]\n",
    "while(x=='c'):\n",
    "    p_name=input(\"enter the name of the product you want to buy:\")\n",
    "    for i in products:\n",
    "        if(products[i]['pname']==p_name):\n",
    "            p_quant=int(input(\"enter the quantity you want to buy:\"))\n",
    "            if(products[i]['quantity']<p_quant):\n",
    "                print(\"sorry required quantity is not available\")\n",
    "                x=input(\"type c if you want to continue else s\")\n",
    "                break\n",
    "            else:  \n",
    "                amt+=products[i]['price']*p_quant\n",
    "                products[i]['quantity']-=p_quant\n",
    "                id.append(i)\n",
    "                name.append(products[i]['pname'])\n",
    "                qu.append(p_quant)\n",
    "                price.append(products[i]['price']*p_quant)\n",
    "                typ.append(products[i]['Ptype'])\n",
    "                com.append(products[i]['company'])\n",
    "                x=input(\"type c if you want to continue else s\")\n",
    "                break\n",
    "    else:\n",
    "        print(\"sorry the required product is not available\")\n",
    "        x=input(\"type c if you want to continue shopping else s if you want to stop\")\n"
   ]
  },
  {
   "cell_type": "markdown",
   "metadata": {},
   "source": [
    "# Updating the records.txt file"
   ]
  },
  {
   "cell_type": "code",
   "execution_count": 20,
   "metadata": {},
   "outputs": [],
   "source": [
    "js=json.dumps(products)\n",
    "fp=open(\"records.txt\",\"w\")\n",
    "fp.write(js)\n",
    "fp.close() "
   ]
  },
  {
   "cell_type": "markdown",
   "metadata": {},
   "source": [
    "# Printing the bill"
   ]
  },
  {
   "cell_type": "code",
   "execution_count": 21,
   "metadata": {},
   "outputs": [
    {
     "name": "stdout",
     "output_type": "stream",
     "text": [
      "\n",
      "\n",
      "\n",
      "BILL\n",
      "_________\n",
      "\n",
      "id      name           quantity    company     price\n",
      "\n",
      "1026   moong dal           12          Haldirams              720\n",
      "\n",
      "\n",
      "Total bill= 720\n",
      "________\n",
      "\n",
      "THANK YOU\n",
      "\n",
      "\n",
      "2021-09-05 19:55:54.708139\n",
      "Enter user name:Tanu\n",
      "Enter the phoneno: 2382992029\n"
     ]
    }
   ],
   "source": [
    "print(\"\\n\\n\")\n",
    "print(\"BILL\")\n",
    "print(\"_________\")\n",
    "print()\n",
    "print(\"id\",end=\"      \") \n",
    "print(\"name\",end=\"           \")\n",
    "print(\"quantity\",end=\"    \")\n",
    "print(\"company\",end=\"     \")\n",
    "print(\"price\")\n",
    "print()\n",
    "\n",
    "for i in range(len(id)):\n",
    "    print(id[i],end=\"   \") \n",
    "    print(name[i],end=\"           \")\n",
    "    print(qu[i],end=\"          \")\n",
    "    print(com[i],end=\"              \")\n",
    "    print(price[i])\n",
    "print()\n",
    "print()\n",
    "print(\"Total bill=\",amt)\n",
    "    \n",
    "print(\"________\")\n",
    "print()\n",
    "print(\"THANK YOU\")\n",
    "print()\n",
    "print()\n",
    "now=datetime.now()\n",
    "print(now)\n",
    "user=str(input(\"Enter user name:\"))\n",
    "uphoneno = input(\"Enter the phoneno: \")\n",
    "fp=open(\"sales.txt\",\"a\")\n",
    "fp.write(\"User name: \")\n",
    "fp.write(user)\n",
    "fp.write(\"   \")\n",
    "fp.write(\"Phone number: \")\n",
    "fp.write(uphoneno)\n",
    "fp.write(\"   \")\n",
    "fp.write(\"time:\")\n",
    "fp.write(str(now))\n",
    "fp.write(\"\\n\")\n",
    "fp.close()\n",
    "for i in range(len(id)):\n",
    "    sales = {\"productid\":id[i],\"typeofproduct\":typ[i],\"company\":com[i],\"price\":price[i],\"quantity\":qu[i]}\n",
    "    j=json.dumps(sales)\n",
    "    fp=open(\"sales.txt\",\"a\")\n",
    "    fp.write(j)\n",
    "    fp.close()\n",
    "fp=open(\"sales.txt\",\"a\")\n",
    "fp.write(\"Total bill: \")\n",
    "fp.write(str(amt))\n",
    "fp.write(\"\\n\")\n",
    "fp.write(\"\\n\")\n",
    "fp.close()"
   ]
  },
  {
   "cell_type": "markdown",
   "metadata": {},
   "source": [
    "# Adding a new item into the inventory"
   ]
  },
  {
   "cell_type": "code",
   "execution_count": 5,
   "metadata": {},
   "outputs": [
    {
     "name": "stdout",
     "output_type": "stream",
     "text": [
      "enter product id1026\n",
      "enter product namemoong dal\n",
      "enter type of productpacked food\n",
      "enter price60\n",
      "enter quantity9\n",
      "enter name of the companyHaldirams\n"
     ]
    }
   ],
   "source": [
    "import json\n",
    "pid=input(\"enter product id:\")\n",
    "name=input(\"enter product name:\")\n",
    "ptype=input(\"enter type of product:\")\n",
    "price=int(input(\"enter price:\"))\n",
    "qu=int(input(\"enter quantity:\"))\n",
    "cmp=input(\"enter name of the company:\")\n",
    "fp=open(\"records.txt\",\"r\")\n",
    "data=fp.read()\n",
    "fp.close()\n",
    "products=json.loads(data)\n",
    "for i in products:\n",
    "    if(i==pid):\n",
    "        products[i]['price']=price\n",
    "        products[i]['quantity']+=qu\n",
    "        js=json.dumps(products)\n",
    "        fp=open(\"records.txt\",\"w\")\n",
    "        fp.write(js)\n",
    "        fp.close()\n",
    "        break\n",
    "else:        \n",
    "    products[pid]={\"pname\":name,\"Ptype\":ptype,\"price\":price,\"quantity\":qu,\"company\":cmp}\n",
    "    js=json.dumps(products)\n",
    "    fp=open(\"records.txt\",\"w\")\n",
    "    fp.write(js)\n",
    "    fp.close()"
   ]
  },
  {
   "cell_type": "code",
   "execution_count": null,
   "metadata": {},
   "outputs": [],
   "source": []
  },
  {
   "cell_type": "code",
   "execution_count": null,
   "metadata": {},
   "outputs": [],
   "source": []
  },
  {
   "cell_type": "code",
   "execution_count": 7,
   "metadata": {},
   "outputs": [],
   "source": []
  },
  {
   "cell_type": "code",
   "execution_count": null,
   "metadata": {},
   "outputs": [],
   "source": []
  },
  {
   "cell_type": "code",
   "execution_count": 8,
   "metadata": {},
   "outputs": [],
   "source": []
  },
  {
   "cell_type": "code",
   "execution_count": null,
   "metadata": {},
   "outputs": [],
   "source": []
  }
 ],
 "metadata": {
  "kernelspec": {
   "display_name": "Python 3",
   "language": "python",
   "name": "python3"
  },
  "language_info": {
   "codemirror_mode": {
    "name": "ipython",
    "version": 3
   },
   "file_extension": ".py",
   "mimetype": "text/x-python",
   "name": "python",
   "nbconvert_exporter": "python",
   "pygments_lexer": "ipython3",
   "version": "3.7.4"
  }
 },
 "nbformat": 4,
 "nbformat_minor": 2
}
